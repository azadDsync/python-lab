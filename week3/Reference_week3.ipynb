{
  "cells": [
    {
      "cell_type": "markdown",
      "metadata": {
        "id": "05TwhbszJaPo"
      },
      "source": [
        "# Importing all the necessary libraries"
      ]
    },
    {
      "cell_type": "code",
      "execution_count": null,
      "metadata": {
        "id": "rlI0oIikJaPq"
      },
      "outputs": [],
      "source": [
        "import pandas as pd\n",
        "import numpy as np\n",
        "import matplotlib.pyplot as plt\n",
        "import seaborn as snsimport pandas as pd\n",
        "import numpy as np\n",
        "import matplotlib.pyplot as plt\n",
        "import seaborn as sns"
      ]
    },
    {
      "cell_type": "markdown",
      "metadata": {
        "id": "SUkiTiJIJaPq"
      },
      "source": [
        "# Importing the dataset"
      ]
    },
    {
      "cell_type": "code",
      "execution_count": null,
      "metadata": {
        "id": "oV30eI4_JaPr",
        "outputId": "09f6a7b1-8583-4a7e-c409-f515504afd29"
      },
      "outputs": [
        {
          "data": {
            "text/html": [
              "<div>\n",
              "<style scoped>\n",
              "    .dataframe tbody tr th:only-of-type {\n",
              "        vertical-align: middle;\n",
              "    }\n",
              "\n",
              "    .dataframe tbody tr th {\n",
              "        vertical-align: top;\n",
              "    }\n",
              "\n",
              "    .dataframe thead th {\n",
              "        text-align: right;\n",
              "    }\n",
              "</style>\n",
              "<table border=\"1\" class=\"dataframe\">\n",
              "  <thead>\n",
              "    <tr style=\"text-align: right;\">\n",
              "      <th></th>\n",
              "      <th>Mthly_HH_Income</th>\n",
              "      <th>Mthly_HH_Expense</th>\n",
              "      <th>No_of_Fly_Members</th>\n",
              "      <th>Emi_or_Rent_Amt</th>\n",
              "      <th>Annual_HH_Income</th>\n",
              "      <th>Highest_Qualified_Member</th>\n",
              "      <th>No_of_Earning_Members</th>\n",
              "    </tr>\n",
              "  </thead>\n",
              "  <tbody>\n",
              "    <tr>\n",
              "      <th>0</th>\n",
              "      <td>5000</td>\n",
              "      <td>8000</td>\n",
              "      <td>3</td>\n",
              "      <td>2000</td>\n",
              "      <td>64200</td>\n",
              "      <td>Under-Graduate</td>\n",
              "      <td>1</td>\n",
              "    </tr>\n",
              "    <tr>\n",
              "      <th>1</th>\n",
              "      <td>6000</td>\n",
              "      <td>7000</td>\n",
              "      <td>2</td>\n",
              "      <td>3000</td>\n",
              "      <td>79920</td>\n",
              "      <td>Illiterate</td>\n",
              "      <td>1</td>\n",
              "    </tr>\n",
              "    <tr>\n",
              "      <th>2</th>\n",
              "      <td>10000</td>\n",
              "      <td>4500</td>\n",
              "      <td>2</td>\n",
              "      <td>0</td>\n",
              "      <td>112800</td>\n",
              "      <td>Under-Graduate</td>\n",
              "      <td>1</td>\n",
              "    </tr>\n",
              "  </tbody>\n",
              "</table>\n",
              "</div>"
            ],
            "text/plain": [
              "   Mthly_HH_Income  Mthly_HH_Expense  No_of_Fly_Members  Emi_or_Rent_Amt  \\\n",
              "0             5000              8000                  3             2000   \n",
              "1             6000              7000                  2             3000   \n",
              "2            10000              4500                  2                0   \n",
              "\n",
              "   Annual_HH_Income Highest_Qualified_Member  No_of_Earning_Members  \n",
              "0             64200           Under-Graduate                      1  \n",
              "1             79920               Illiterate                      1  \n",
              "2            112800           Under-Graduate                      1  "
            ]
          },
          "execution_count": 4,
          "metadata": {},
          "output_type": "execute_result"
        }
      ],
      "source": [
        "df = pd.read_csv('data.csv')\n",
        "df.head(3)"
      ]
    },
    {
      "cell_type": "code",
      "execution_count": null,
      "metadata": {
        "id": "8GKCSpgnJaPr",
        "outputId": "044e578c-578e-42bc-f682-df57d5918420"
      },
      "outputs": [
        {
          "data": {
            "text/plain": [
              "(50, 7)"
            ]
          },
          "execution_count": 5,
          "metadata": {},
          "output_type": "execute_result"
        }
      ],
      "source": [
        "df.shape"
      ]
    },
    {
      "cell_type": "markdown",
      "metadata": {
        "id": "s15bfzxBJaPs"
      },
      "source": [
        "There are **50** *rows* and **7** *columns* in the dataset."
      ]
    },
    {
      "cell_type": "markdown",
      "metadata": {
        "id": "-YZDOaejJaPs"
      },
      "source": [
        "### Let's first check if the dataset has any null values"
      ]
    },
    {
      "cell_type": "code",
      "execution_count": null,
      "metadata": {
        "id": "aB6t5zcyJaPs",
        "outputId": "f3ef899c-3d99-4a2c-f258-5f8341a2bf6e"
      },
      "outputs": [
        {
          "data": {
            "text/plain": [
              "Mthly_HH_Income             0\n",
              "Mthly_HH_Expense            0\n",
              "No_of_Fly_Members           0\n",
              "Emi_or_Rent_Amt             0\n",
              "Annual_HH_Income            0\n",
              "Highest_Qualified_Member    0\n",
              "No_of_Earning_Members       0\n",
              "dtype: int64"
            ]
          },
          "execution_count": 4,
          "metadata": {},
          "output_type": "execute_result"
        }
      ],
      "source": [
        "df.isnull().sum()"
      ]
    },
    {
      "cell_type": "markdown",
      "metadata": {
        "id": "VGTsGVesJaPs"
      },
      "source": [
        "There is no null/nan values in the dataset."
      ]
    },
    {
      "cell_type": "markdown",
      "metadata": {
        "id": "qWcL4QvQJaPs"
      },
      "source": [
        "# Descriptive Statistics"
      ]
    },
    {
      "cell_type": "markdown",
      "metadata": {
        "id": "oG2RnQ8tJaPs"
      },
      "source": [
        "Descriptive statistics summarize and organize characteristics of a data set. It summarizes a given data set, which can be either a representation of the entire population or a sample of a population."
      ]
    },
    {
      "cell_type": "markdown",
      "metadata": {
        "id": "AouqBvp-JaPt"
      },
      "source": [
        "## Types of descriptive statistics\n",
        "- Central Tendency\n",
        "- Variability\n",
        "        "
      ]
    },
    {
      "cell_type": "markdown",
      "metadata": {
        "id": "Je-kS_AsJaPt"
      },
      "source": [
        "## Central Tendency\n",
        "Measures of central tendency describe the center position of a distribution for a data set.\n",
        "\n",
        "**Mean** - Represents the sum of all values in a dataset divided by the total number of the values.\n",
        "\n",
        "> Mean =  ⅀x/n\n",
        "\n",
        "    Outliers can significantly increase or decrease the mean when they are included in the calculation.\n",
        "    Since all values are used to calculate the mean, it can be affected by extreme outliers.\n",
        "\n",
        "**Median** - The middle value in a dataset that is arranged in ascending order (from the smallest value to the largest value). If a dataset contains an even number of values, the median of the dataset is the mean of the two middle values.\n",
        "\n",
        "> Median of an odd-numbered data set :-\n",
        "\n",
        "> Median = (n+1)/2\n",
        "\n",
        "\n",
        "        \n",
        "> Median of an even-numbered data set :-\n",
        "\n",
        "> Median = mean of n/2 and (n/2)+1\n",
        "\n",
        "**Mode** - Defines the most frequently occurring value in a dataset. In some cases, a dataset may contain multiple modes, while some datasets may not have any mode at all.\n"
      ]
    },
    {
      "cell_type": "markdown",
      "metadata": {
        "id": "cOWScb7tJaPt"
      },
      "source": [
        "## Variablility\n",
        "> Measures of variability (or the measures of spread) aid in analyzing how dispersed the distribution is for a set of data.\n",
        "\n",
        "\n",
        "\n",
        "**Standard Deviation** - The standard deviation is the average amount of variability in your dataset.It tells how far each score lies from the mean. The larger the standard deviation, the more variable the data set is.\n",
        ">  ${\\sigma}$ = ${\\sqrt{\\frac{\\Sigma{(x-\\mu)}}{N}}}$\n",
        "\n",
        "\n",
        "> where,\n",
        "\n",
        "> ${\\sigma}$ = population standard deviation\n",
        "\n",
        "> $\\Sigma$ = Summation\n",
        "\n",
        "> x = each value\n",
        "\n",
        "> $\\mu$ = population mean\n",
        "\n",
        "> N = number of values in the population\n",
        "\n",
        "**Variance** - The variance is the average of squared deviations from the mean.Variance is the square of the standard deviation. This means that the units of variance are much larger than those of a typical value of a data set.\n",
        "\n",
        "> ${\\sigma}^{2}$ = ${{\\frac{\\Sigma{(x-\\mu)}}{N}}}$\n",
        "\n",
        "> where,\n",
        "\n",
        "> ${\\sigma}^{2}$ = sample variance\n",
        "\n",
        "> $\\Sigma$ = summation\n",
        "\n",
        "> X = each value\n",
        "\n",
        "> $\\mu$ = population mean\n",
        "\n",
        "> N = number of values in the population"
      ]
    },
    {
      "cell_type": "markdown",
      "metadata": {
        "id": "k8LtXENvJaPt"
      },
      "source": [
        "Now let us apply these descriptive statistical concepts in out dataset using pandas libraries."
      ]
    },
    {
      "cell_type": "code",
      "execution_count": null,
      "metadata": {
        "id": "7f0658puJaPt",
        "outputId": "a73c4781-10bc-415b-bc3b-b647bf5abfec"
      },
      "outputs": [
        {
          "data": {
            "text/html": [
              "<div>\n",
              "<style scoped>\n",
              "    .dataframe tbody tr th:only-of-type {\n",
              "        vertical-align: middle;\n",
              "    }\n",
              "\n",
              "    .dataframe tbody tr th {\n",
              "        vertical-align: top;\n",
              "    }\n",
              "\n",
              "    .dataframe thead th {\n",
              "        text-align: right;\n",
              "    }\n",
              "</style>\n",
              "<table border=\"1\" class=\"dataframe\">\n",
              "  <thead>\n",
              "    <tr style=\"text-align: right;\">\n",
              "      <th></th>\n",
              "      <th>Mthly_HH_Income</th>\n",
              "      <th>Mthly_HH_Expense</th>\n",
              "      <th>No_of_Fly_Members</th>\n",
              "      <th>Emi_or_Rent_Amt</th>\n",
              "      <th>Annual_HH_Income</th>\n",
              "      <th>No_of_Earning_Members</th>\n",
              "    </tr>\n",
              "  </thead>\n",
              "  <tbody>\n",
              "    <tr>\n",
              "      <th>count</th>\n",
              "      <td>50.000000</td>\n",
              "      <td>50.000000</td>\n",
              "      <td>50.000000</td>\n",
              "      <td>50.000000</td>\n",
              "      <td>5.000000e+01</td>\n",
              "      <td>50.000000</td>\n",
              "    </tr>\n",
              "    <tr>\n",
              "      <th>mean</th>\n",
              "      <td>41558.000000</td>\n",
              "      <td>18818.000000</td>\n",
              "      <td>4.060000</td>\n",
              "      <td>3060.000000</td>\n",
              "      <td>4.900190e+05</td>\n",
              "      <td>1.460000</td>\n",
              "    </tr>\n",
              "    <tr>\n",
              "      <th>std</th>\n",
              "      <td>26097.908979</td>\n",
              "      <td>12090.216824</td>\n",
              "      <td>1.517382</td>\n",
              "      <td>6241.434948</td>\n",
              "      <td>3.201358e+05</td>\n",
              "      <td>0.734291</td>\n",
              "    </tr>\n",
              "    <tr>\n",
              "      <th>min</th>\n",
              "      <td>5000.000000</td>\n",
              "      <td>2000.000000</td>\n",
              "      <td>1.000000</td>\n",
              "      <td>0.000000</td>\n",
              "      <td>6.420000e+04</td>\n",
              "      <td>1.000000</td>\n",
              "    </tr>\n",
              "    <tr>\n",
              "      <th>25%</th>\n",
              "      <td>23550.000000</td>\n",
              "      <td>10000.000000</td>\n",
              "      <td>3.000000</td>\n",
              "      <td>0.000000</td>\n",
              "      <td>2.587500e+05</td>\n",
              "      <td>1.000000</td>\n",
              "    </tr>\n",
              "    <tr>\n",
              "      <th>50%</th>\n",
              "      <td>35000.000000</td>\n",
              "      <td>15500.000000</td>\n",
              "      <td>4.000000</td>\n",
              "      <td>0.000000</td>\n",
              "      <td>4.474200e+05</td>\n",
              "      <td>1.000000</td>\n",
              "    </tr>\n",
              "    <tr>\n",
              "      <th>75%</th>\n",
              "      <td>50375.000000</td>\n",
              "      <td>25000.000000</td>\n",
              "      <td>5.000000</td>\n",
              "      <td>3500.000000</td>\n",
              "      <td>5.947200e+05</td>\n",
              "      <td>2.000000</td>\n",
              "    </tr>\n",
              "    <tr>\n",
              "      <th>max</th>\n",
              "      <td>100000.000000</td>\n",
              "      <td>50000.000000</td>\n",
              "      <td>7.000000</td>\n",
              "      <td>35000.000000</td>\n",
              "      <td>1.404000e+06</td>\n",
              "      <td>4.000000</td>\n",
              "    </tr>\n",
              "  </tbody>\n",
              "</table>\n",
              "</div>"
            ],
            "text/plain": [
              "       Mthly_HH_Income  Mthly_HH_Expense  No_of_Fly_Members  Emi_or_Rent_Amt  \\\n",
              "count        50.000000         50.000000          50.000000        50.000000   \n",
              "mean      41558.000000      18818.000000           4.060000      3060.000000   \n",
              "std       26097.908979      12090.216824           1.517382      6241.434948   \n",
              "min        5000.000000       2000.000000           1.000000         0.000000   \n",
              "25%       23550.000000      10000.000000           3.000000         0.000000   \n",
              "50%       35000.000000      15500.000000           4.000000         0.000000   \n",
              "75%       50375.000000      25000.000000           5.000000      3500.000000   \n",
              "max      100000.000000      50000.000000           7.000000     35000.000000   \n",
              "\n",
              "       Annual_HH_Income  No_of_Earning_Members  \n",
              "count      5.000000e+01              50.000000  \n",
              "mean       4.900190e+05               1.460000  \n",
              "std        3.201358e+05               0.734291  \n",
              "min        6.420000e+04               1.000000  \n",
              "25%        2.587500e+05               1.000000  \n",
              "50%        4.474200e+05               1.000000  \n",
              "75%        5.947200e+05               2.000000  \n",
              "max        1.404000e+06               4.000000  "
            ]
          },
          "execution_count": 5,
          "metadata": {},
          "output_type": "execute_result"
        }
      ],
      "source": [
        "df.describe()"
      ]
    },
    {
      "cell_type": "code",
      "execution_count": null,
      "metadata": {
        "id": "udbkzE9RJaPu",
        "outputId": "9b952037-520d-4948-cdb9-99f5e3dba08b"
      },
      "outputs": [
        {
          "name": "stderr",
          "output_type": "stream",
          "text": [
            "<ipython-input-6-6d467abf240d>:1: FutureWarning: Dropping of nuisance columns in DataFrame reductions (with 'numeric_only=None') is deprecated; in a future version this will raise TypeError.  Select only valid columns before calling the reduction.\n",
            "  df.median()\n"
          ]
        },
        {
          "data": {
            "text/plain": [
              "Mthly_HH_Income           35000.0\n",
              "Mthly_HH_Expense          15500.0\n",
              "No_of_Fly_Members             4.0\n",
              "Emi_or_Rent_Amt               0.0\n",
              "Annual_HH_Income         447420.0\n",
              "No_of_Earning_Members         1.0\n",
              "dtype: float64"
            ]
          },
          "execution_count": 6,
          "metadata": {},
          "output_type": "execute_result"
        }
      ],
      "source": [
        "df.median()"
      ]
    },
    {
      "cell_type": "code",
      "execution_count": null,
      "metadata": {
        "id": "9LI5tJcQJaPu",
        "outputId": "c1fdef97-c069-4204-8644-2692883bceff"
      },
      "outputs": [
        {
          "data": {
            "text/html": [
              "<div>\n",
              "<style scoped>\n",
              "    .dataframe tbody tr th:only-of-type {\n",
              "        vertical-align: middle;\n",
              "    }\n",
              "\n",
              "    .dataframe tbody tr th {\n",
              "        vertical-align: top;\n",
              "    }\n",
              "\n",
              "    .dataframe thead th {\n",
              "        text-align: right;\n",
              "    }\n",
              "</style>\n",
              "<table border=\"1\" class=\"dataframe\">\n",
              "  <thead>\n",
              "    <tr style=\"text-align: right;\">\n",
              "      <th></th>\n",
              "      <th>Mthly_HH_Income</th>\n",
              "      <th>Mthly_HH_Expense</th>\n",
              "      <th>No_of_Fly_Members</th>\n",
              "      <th>Emi_or_Rent_Amt</th>\n",
              "      <th>Annual_HH_Income</th>\n",
              "      <th>Highest_Qualified_Member</th>\n",
              "      <th>No_of_Earning_Members</th>\n",
              "    </tr>\n",
              "  </thead>\n",
              "  <tbody>\n",
              "    <tr>\n",
              "      <th>0</th>\n",
              "      <td>45000</td>\n",
              "      <td>25000</td>\n",
              "      <td>4</td>\n",
              "      <td>0</td>\n",
              "      <td>590400</td>\n",
              "      <td>Graduate</td>\n",
              "      <td>1</td>\n",
              "    </tr>\n",
              "  </tbody>\n",
              "</table>\n",
              "</div>"
            ],
            "text/plain": [
              "   Mthly_HH_Income  Mthly_HH_Expense  No_of_Fly_Members  Emi_or_Rent_Amt  \\\n",
              "0            45000             25000                  4                0   \n",
              "\n",
              "   Annual_HH_Income Highest_Qualified_Member  No_of_Earning_Members  \n",
              "0            590400                 Graduate                      1  "
            ]
          },
          "execution_count": 7,
          "metadata": {},
          "output_type": "execute_result"
        }
      ],
      "source": [
        "df.mode()"
      ]
    },
    {
      "cell_type": "code",
      "execution_count": null,
      "metadata": {
        "id": "lWs71CcGJaPu",
        "outputId": "e41b3e96-8d4b-4d2d-b31d-dbe1bf74b670"
      },
      "outputs": [
        {
          "name": "stderr",
          "output_type": "stream",
          "text": [
            "<ipython-input-8-28ded241fd7c>:1: FutureWarning: Dropping of nuisance columns in DataFrame reductions (with 'numeric_only=None') is deprecated; in a future version this will raise TypeError.  Select only valid columns before calling the reduction.\n",
            "  df.var()\n"
          ]
        },
        {
          "data": {
            "text/plain": [
              "Mthly_HH_Income          6.811009e+08\n",
              "Mthly_HH_Expense         1.461733e+08\n",
              "No_of_Fly_Members        2.302449e+00\n",
              "Emi_or_Rent_Amt          3.895551e+07\n",
              "Annual_HH_Income         1.024869e+11\n",
              "No_of_Earning_Members    5.391837e-01\n",
              "dtype: float64"
            ]
          },
          "execution_count": 8,
          "metadata": {},
          "output_type": "execute_result"
        }
      ],
      "source": [
        "df.var()"
      ]
    },
    {
      "cell_type": "markdown",
      "metadata": {
        "id": "21NkMHoUJaPu"
      },
      "source": [
        "## The mean, median, mode, variance and standard deviation obtained are:\n",
        "\n",
        "Mean:\n",
        "> Monthly Household Income = Rs 41558\n",
        "\n",
        "\n",
        "> Monthly Household Expense = Rs 18818\n",
        "\n",
        "\n",
        "> No of Family members = 4\n",
        "\n",
        "\n",
        "> Emi/Rent amount = Rs 3060\n",
        "\n",
        "\n",
        "> Annual Household Income = Rs 490019\n",
        "\n",
        "\n",
        "> No of earning members in a household = less than 2\n",
        "\n",
        "Median:\n",
        "> Monthly Household Income = Rs 35000.0\n",
        "\n",
        "\n",
        "> Monthly Household Expense = Rs 15500.0\n",
        "\n",
        "> No of Family members = 4.0\n",
        "\n",
        "\n",
        "> Emi/Rent amount = Rs 0.0\n",
        "\n",
        "\n",
        "> Annual Household Income = Rs 447420.0\n",
        "\n",
        "\n",
        "> No of earning members in a household =  1.0\n",
        "\n",
        "Mode:\n",
        "> Monthly Household Income = Rs 45000             \n",
        "\n",
        "\n",
        "> Monthly Household Expense = Rs 25000                  \n",
        "\n",
        "> No of Family members = 1.5 or less than 2\n",
        "\n",
        "\n",
        "> Emi/Rent amount = Rs 0\n",
        "\n",
        "\n",
        "> Annual Household Income = Rs 590400    \n",
        "\n",
        "\n",
        "> Highest qualified member = Graduate\n",
        "\n",
        "\n",
        "> No of earning members in a household =  1\n",
        "\n",
        "Variance:\n",
        "> Mthly_HH_Income          6.811009e+08\n",
        "\n",
        "> Mthly_HH_Expense         1.461733e+08\n",
        "\n",
        "> No_of_Fly_Members        2.302449e+00\n",
        "\n",
        "> Emi_or_Rent_Amt          3.895551e+07\n",
        "\n",
        "> Annual_HH_Income         1.024869e+11\n",
        "\n",
        "> No_of_Earning_Members    5.391837e-01\n",
        "\n",
        "Standard Deviation:\n",
        "> Monthly Household Income = Rs 26097.91\n",
        "\n",
        "\n",
        "> Monthly Household Expense = Rs 12090.22\n",
        "\n",
        "> No of Family members = 1.5 or less than 2\n",
        "\n",
        "\n",
        "> Emi/Rent amount = Rs 6241.43\n",
        "\n",
        "\n",
        "> Annual Household Income = Rs 320135.8\n",
        "\n",
        "\n",
        "> No of earning members in a household = 0.7 less than 1\n"
      ]
    },
    {
      "cell_type": "markdown",
      "metadata": {
        "id": "eUF4dq8sJaPu"
      },
      "source": [
        "## Let's check the correlation between the variables."
      ]
    },
    {
      "cell_type": "code",
      "execution_count": null,
      "metadata": {
        "id": "FIKfK6PDJaPu",
        "outputId": "ab232758-d3a9-445d-9ff5-2ba5c65e5425"
      },
      "outputs": [
        {
          "data": {
            "text/html": [
              "<div>\n",
              "<style scoped>\n",
              "    .dataframe tbody tr th:only-of-type {\n",
              "        vertical-align: middle;\n",
              "    }\n",
              "\n",
              "    .dataframe tbody tr th {\n",
              "        vertical-align: top;\n",
              "    }\n",
              "\n",
              "    .dataframe thead th {\n",
              "        text-align: right;\n",
              "    }\n",
              "</style>\n",
              "<table border=\"1\" class=\"dataframe\">\n",
              "  <thead>\n",
              "    <tr style=\"text-align: right;\">\n",
              "      <th></th>\n",
              "      <th>Mthly_HH_Income</th>\n",
              "      <th>Mthly_HH_Expense</th>\n",
              "      <th>No_of_Fly_Members</th>\n",
              "      <th>Emi_or_Rent_Amt</th>\n",
              "      <th>Annual_HH_Income</th>\n",
              "      <th>No_of_Earning_Members</th>\n",
              "    </tr>\n",
              "  </thead>\n",
              "  <tbody>\n",
              "    <tr>\n",
              "      <th>Mthly_HH_Income</th>\n",
              "      <td>1.000000</td>\n",
              "      <td>0.649215</td>\n",
              "      <td>0.448317</td>\n",
              "      <td>0.036976</td>\n",
              "      <td>0.970315</td>\n",
              "      <td>0.347883</td>\n",
              "    </tr>\n",
              "    <tr>\n",
              "      <th>Mthly_HH_Expense</th>\n",
              "      <td>0.649215</td>\n",
              "      <td>1.000000</td>\n",
              "      <td>0.639702</td>\n",
              "      <td>0.405280</td>\n",
              "      <td>0.591222</td>\n",
              "      <td>0.311915</td>\n",
              "    </tr>\n",
              "    <tr>\n",
              "      <th>No_of_Fly_Members</th>\n",
              "      <td>0.448317</td>\n",
              "      <td>0.639702</td>\n",
              "      <td>1.000000</td>\n",
              "      <td>0.085808</td>\n",
              "      <td>0.430868</td>\n",
              "      <td>0.597482</td>\n",
              "    </tr>\n",
              "    <tr>\n",
              "      <th>Emi_or_Rent_Amt</th>\n",
              "      <td>0.036976</td>\n",
              "      <td>0.405280</td>\n",
              "      <td>0.085808</td>\n",
              "      <td>1.000000</td>\n",
              "      <td>0.002716</td>\n",
              "      <td>-0.097431</td>\n",
              "    </tr>\n",
              "    <tr>\n",
              "      <th>Annual_HH_Income</th>\n",
              "      <td>0.970315</td>\n",
              "      <td>0.591222</td>\n",
              "      <td>0.430868</td>\n",
              "      <td>0.002716</td>\n",
              "      <td>1.000000</td>\n",
              "      <td>0.296679</td>\n",
              "    </tr>\n",
              "    <tr>\n",
              "      <th>No_of_Earning_Members</th>\n",
              "      <td>0.347883</td>\n",
              "      <td>0.311915</td>\n",
              "      <td>0.597482</td>\n",
              "      <td>-0.097431</td>\n",
              "      <td>0.296679</td>\n",
              "      <td>1.000000</td>\n",
              "    </tr>\n",
              "  </tbody>\n",
              "</table>\n",
              "</div>"
            ],
            "text/plain": [
              "                       Mthly_HH_Income  Mthly_HH_Expense  No_of_Fly_Members  \\\n",
              "Mthly_HH_Income               1.000000          0.649215           0.448317   \n",
              "Mthly_HH_Expense              0.649215          1.000000           0.639702   \n",
              "No_of_Fly_Members             0.448317          0.639702           1.000000   \n",
              "Emi_or_Rent_Amt               0.036976          0.405280           0.085808   \n",
              "Annual_HH_Income              0.970315          0.591222           0.430868   \n",
              "No_of_Earning_Members         0.347883          0.311915           0.597482   \n",
              "\n",
              "                       Emi_or_Rent_Amt  Annual_HH_Income  \\\n",
              "Mthly_HH_Income               0.036976          0.970315   \n",
              "Mthly_HH_Expense              0.405280          0.591222   \n",
              "No_of_Fly_Members             0.085808          0.430868   \n",
              "Emi_or_Rent_Amt               1.000000          0.002716   \n",
              "Annual_HH_Income              0.002716          1.000000   \n",
              "No_of_Earning_Members        -0.097431          0.296679   \n",
              "\n",
              "                       No_of_Earning_Members  \n",
              "Mthly_HH_Income                     0.347883  \n",
              "Mthly_HH_Expense                    0.311915  \n",
              "No_of_Fly_Members                   0.597482  \n",
              "Emi_or_Rent_Amt                    -0.097431  \n",
              "Annual_HH_Income                    0.296679  \n",
              "No_of_Earning_Members               1.000000  "
            ]
          },
          "execution_count": 9,
          "metadata": {},
          "output_type": "execute_result"
        }
      ],
      "source": [
        "df_corr = df.corr()\n",
        "df_corr"
      ]
    },
    {
      "cell_type": "markdown",
      "metadata": {
        "id": "aHuNk-PlJaPu"
      },
      "source": [
        "Using **heatmap** for graphical representation of the correlation of the variables."
      ]
    },
    {
      "cell_type": "code",
      "execution_count": null,
      "metadata": {
        "id": "9WzKgDIFJaPu",
        "outputId": "8e8dcc9b-29e0-47eb-c4ba-dc42c90186be"
      },
      "outputs": [
        {
          "data": {
            "text/plain": [
              "<AxesSubplot:>"
            ]
          },
          "execution_count": 10,
          "metadata": {},
          "output_type": "execute_result"
        },
        {
          "data": {
            "image/png": "[encoded data removed]",
            "text/plain": [
              "<Figure size 1080x1080 with 2 Axes>"
            ]
          },
          "metadata": {
            "needs_background": "light"
          },
          "output_type": "display_data"
        }
      ],
      "source": [
        "\n",
        "plt.figure(figsize=(15, 15))\n",
        "sns.heatmap(df_corr, vmin=-1, vmax=+1, annot=True)\n"
      ]
    },
    {
      "cell_type": "markdown",
      "metadata": {
        "id": "6_xh9HdPJaPv"
      },
      "source": [
        "## From the correlation matrix we can see,\n"
      ]
    },
    {
      "cell_type": "markdown",
      "metadata": {
        "id": "fqWLBElSJaPv"
      },
      "source": [
        "- A very high **positive** relation of **0.97** between *Annual HH income* and *Monthly HH income*.\n",
        "- A **positive** relation of **0.65** between *Monthly HH income* and *Monthly HH expense*.\n",
        "- A **positive** relation of **0.64** between *Monthly HH expense* and *No of family members*.\n",
        "So we can conclude that monthly household expenses increases with increase in family members. And montly expenses with the increase of monthly income respectively."
      ]
    },
    {
      "cell_type": "markdown",
      "metadata": {
        "id": "JvJNsBHKJaPv"
      },
      "source": [
        "# Normal Distribution"
      ]
    },
    {
      "cell_type": "markdown",
      "metadata": {
        "id": "iB09NSaHJaPv"
      },
      "source": [
        "Normal Distribution is a probability function used in statistics that tells about how the data values are\n",
        "    distributed. It is the most important probability distribution function used in statistics because of its\n",
        "    advantages in real case scenarios. For example, the height of the population, shoe size, IQ level, rolling a die,\n",
        "    and many more.\n",
        "\n",
        "\n",
        "![NormalDistribution|600](https://sphweb.bumc.bu.edu/otlt/MPH-Modules/PH717-QuantCore/PH717-Module6-RandomError/Normal%20Distribution%20percentages.png)"
      ]
    },
    {
      "cell_type": "markdown",
      "metadata": {
        "id": "F7k22ZqZJaPv"
      },
      "source": [
        "## Features of Normal Distribution"
      ]
    },
    {
      "cell_type": "markdown",
      "metadata": {
        "id": "yXcNV4jXJaPv"
      },
      "source": [
        "Using the mean($\\bar x$) and standard deviation($\\sigma$), we can estimate the probability from the given graph.\n",
        "- $P(\\bar x - \\sigma < x < \\bar x + \\sigma)$ = 0.683\n",
        "  - Probability that a score is withing 1 SD of the mean.\n",
        "- $P(\\bar x - 2\\sigma < x < \\bar x + 2\\sigma)$ = 0.954\n",
        "  - Probability that a score is within 2 SD of mean.\n",
        "- $P(\\bar x - 3\\sigma < x < \\bar x + 3\\sigma)$ = 0.997\n",
        "  - Probability that a score is within 3 SD of the mean.\n",
        "\n",
        "\n",
        "        Note: The frequency of the score is indicated by height of the graph."
      ]
    },
    {
      "cell_type": "code",
      "execution_count": null,
      "metadata": {
        "id": "bYJ6vwldJaPv",
        "outputId": "d4b92b78-990a-48c8-d03e-8b529246a954"
      },
      "outputs": [
        {
          "name": "stderr",
          "output_type": "stream",
          "text": [
            "E:\\programs\\anaconda\\envs\\virtual_workspace\\lib\\site-packages\\seaborn\\distributions.py:2557: FutureWarning: `distplot` is a deprecated function and will be removed in a future version. Please adapt your code to use either `displot` (a figure-level function with similar flexibility) or `histplot` (an axes-level function for histograms).\n",
            "  warnings.warn(msg, FutureWarning)\n"
          ]
        },
        {
          "data": {
            "image/png": "[encoded data removed]",
            "text/plain": [
              "<Figure size 648x504 with 1 Axes>"
            ]
          },
          "metadata": {
            "needs_background": "light"
          },
          "output_type": "display_data"
        },
        {
          "name": "stderr",
          "output_type": "stream",
          "text": [
            "E:\\programs\\anaconda\\envs\\virtual_workspace\\lib\\site-packages\\seaborn\\distributions.py:2557: FutureWarning: `distplot` is a deprecated function and will be removed in a future version. Please adapt your code to use either `displot` (a figure-level function with similar flexibility) or `histplot` (an axes-level function for histograms).\n",
            "  warnings.warn(msg, FutureWarning)\n"
          ]
        },
        {
          "data": {
            "image/png": "[encoded data removed]",
            "text/plain": [
              "<Figure size 648x504 with 1 Axes>"
            ]
          },
          "metadata": {
            "needs_background": "light"
          },
          "output_type": "display_data"
        },
        {
          "name": "stderr",
          "output_type": "stream",
          "text": [
            "E:\\programs\\anaconda\\envs\\virtual_workspace\\lib\\site-packages\\seaborn\\distributions.py:2557: FutureWarning: `distplot` is a deprecated function and will be removed in a future version. Please adapt your code to use either `displot` (a figure-level function with similar flexibility) or `histplot` (an axes-level function for histograms).\n",
            "  warnings.warn(msg, FutureWarning)\n"
          ]
        },
        {
          "data": {
            "image/png": "[encoded data removed]",
            "text/plain": [
              "<Figure size 648x504 with 1 Axes>"
            ]
          },
          "metadata": {
            "needs_background": "light"
          },
          "output_type": "display_data"
        },
        {
          "name": "stderr",
          "output_type": "stream",
          "text": [
            "E:\\programs\\anaconda\\envs\\virtual_workspace\\lib\\site-packages\\seaborn\\distributions.py:2557: FutureWarning: `distplot` is a deprecated function and will be removed in a future version. Please adapt your code to use either `displot` (a figure-level function with similar flexibility) or `histplot` (an axes-level function for histograms).\n",
            "  warnings.warn(msg, FutureWarning)\n"
          ]
        },
        {
          "data": {
            "image/png": "[encoded data removed]",
            "text/plain": [
              "<Figure size 648x504 with 1 Axes>"
            ]
          },
          "metadata": {
            "needs_background": "light"
          },
          "output_type": "display_data"
        },
        {
          "name": "stderr",
          "output_type": "stream",
          "text": [
            "E:\\programs\\anaconda\\envs\\virtual_workspace\\lib\\site-packages\\seaborn\\distributions.py:2557: FutureWarning: `distplot` is a deprecated function and will be removed in a future version. Please adapt your code to use either `displot` (a figure-level function with similar flexibility) or `histplot` (an axes-level function for histograms).\n",
            "  warnings.warn(msg, FutureWarning)\n"
          ]
        },
        {
          "data": {
            "image/png": "[encoded data removed]",
            "text/plain": [
              "<Figure size 648x504 with 1 Axes>"
            ]
          },
          "metadata": {
            "needs_background": "light"
          },
          "output_type": "display_data"
        },
        {
          "name": "stderr",
          "output_type": "stream",
          "text": [
            "E:\\programs\\anaconda\\envs\\virtual_workspace\\lib\\site-packages\\seaborn\\distributions.py:2557: FutureWarning: `distplot` is a deprecated function and will be removed in a future version. Please adapt your code to use either `displot` (a figure-level function with similar flexibility) or `histplot` (an axes-level function for histograms).\n",
            "  warnings.warn(msg, FutureWarning)\n"
          ]
        },
        {
          "data": {
            "image/png": "[encoded data removed]",
            "text/plain": [
              "<Figure size 648x504 with 1 Axes>"
            ]
          },
          "metadata": {
            "needs_background": "light"
          },
          "output_type": "display_data"
        }
      ],
      "source": [
        "numberical_features =  df.select_dtypes(exclude=[np.object])\n",
        "for i in numberical_features.columns:\n",
        "    plt.figure(figsize=(9, 7))\n",
        "    sns.distplot(numberical_features[i])\n",
        "    plt.show()\n"
      ]
    },
    {
      "cell_type": "markdown",
      "metadata": {
        "id": "fY3tK2_1JaPv"
      },
      "source": [
        "## Skewness"
      ]
    },
    {
      "cell_type": "markdown",
      "metadata": {
        "id": "d6unXLmLJaPv"
      },
      "source": [
        "Skewness is the measure of how much the probability distribution of a random variable deviates from the normal distribution.\n",
        "- Skewness is a measure of asymmetry of a distribution. Another measure that describes the shape of a distribution is kurtosis.\n",
        "- In a normal distribution, the mean divides the curve symmetrically into two equal parts at the median and the value of skewness is zero.\n",
        "- When the value of the skewness is negative, the tail of the distribution is longer towards the left hand side of the curve.\n",
        "- When the value of the skewness is positive, the tail of the distribution is longer towards the right hand side of the curve.\n",
        "\n",
        "        Why skewness is important?\n",
        "        Let's say our data is right skewed i.e the tail is towards the right hand side of the distribution.\n",
        "        This means that most of our data points have less/lower values. Or we can say that higher number of data points have low values.\n",
        "        So our model will perform better in predicting lower values as compared to predicting larget/higher values."
      ]
    },
    {
      "cell_type": "markdown",
      "metadata": {
        "id": "64SAk_HIJaPv"
      },
      "source": [
        "Let's check the skewness value of the given dataset."
      ]
    },
    {
      "cell_type": "code",
      "execution_count": null,
      "metadata": {
        "id": "WEKknmyVJaPv",
        "outputId": "e05a19e2-cf26-4121-c00b-a654d49b0bb1"
      },
      "outputs": [
        {
          "name": "stdout",
          "output_type": "stream",
          "text": [
            "Skewness:\n",
            " Mthly_HH_Income          0.924615\n",
            "Mthly_HH_Expense         1.199461\n",
            "No_of_Fly_Members        0.113674\n",
            "Emi_or_Rent_Amt          3.403680\n",
            "Annual_HH_Income         1.192949\n",
            "No_of_Earning_Members    1.593301\n",
            "dtype: float64\n"
          ]
        }
      ],
      "source": [
        "print(\"Skewness:\\n\", df.select_dtypes(exclude=[np.object]).skew())\n"
      ]
    },
    {
      "cell_type": "markdown",
      "metadata": {
        "id": "sNkiJwJnJaPv"
      },
      "source": [
        "Observation:\n",
        "\n",
        "We can conclude that all the features are positively skewed i.e their tail is towards the right hand side of the distribution.\n",
        "\n",
        "The feature **NO of family members** is very close to a normal distribution as the skewness value is close to 0.\n"
      ]
    },
    {
      "cell_type": "markdown",
      "metadata": {
        "id": "iy5OhFbDJaPv"
      },
      "source": [
        "# Effect on Mean, Median and Mode due to Skewness"
      ]
    },
    {
      "cell_type": "markdown",
      "metadata": {
        "id": "0uZfjKAPJaPw"
      },
      "source": [
        "- In case of Right skewed distribution\n",
        "  > Mean > Median > Mode\n",
        "- In case of Left skewed distribution\n",
        "  > Mode > Median > Mean\n",
        "\n",
        "![Skewness](https://www.statisticshowto.com/wp-content/uploads/2014/02/pearson-mode-skewness.jpg)"
      ]
    },
    {
      "cell_type": "markdown",
      "metadata": {
        "id": "bmIEoj3LJjt4"
      },
      "source": []
    }
  ],
  "metadata": {
    "colab": {
      "provenance": [],
      "toc_visible": true
    },
    "interpreter": {
      "hash": "73a86270b8b621c2980a1786016347cc960a3b54d65141cb18af8634b57bf74c"
    },
    "kernelspec": {
      "display_name": "Python 3.8.8 64-bit ('virtual_workspace': conda)",
      "name": "python3"
    },
    "language_info": {
      "codemirror_mode": {
        "name": "ipython",
        "version": 3
      },
      "file_extension": ".py",
      "mimetype": "text/x-python",
      "name": "python",
      "nbconvert_exporter": "python",
      "pygments_lexer": "ipython3",
      "version": "3.8.8"
    },
    "orig_nbformat": 4
  },
  "nbformat": 4,
  "nbformat_minor": 0
}
