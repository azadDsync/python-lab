{
 "cells": [
  {
   "cell_type": "markdown",
   "metadata": {
    "id": "_r_62IAHl-dI"
   },
   "source": [
    "#week-3 Assignment"
   ]
  },
  {
   "cell_type": "markdown",
   "metadata": {
    "id": "5xg7y_SzoKcU"
   },
   "source": [
    "##Read CSV file teachingrating.csv"
   ]
  },
  {
   "cell_type": "markdown",
   "metadata": {
    "id": "_QSmZvw5oLvH"
   },
   "source": [
    "##Display information about the dataset"
   ]
  },
  {
   "cell_type": "markdown",
   "metadata": {
    "id": "-ZkSeBxnoSSK"
   },
   "source": [
    "##Task 1: Generate a histogram for the \"beauty\" variable and provide a brief analysis of the data distribution."
   ]
  },
  {
   "cell_type": "markdown",
   "metadata": {
    "id": "65F-LnIxoZ1p"
   },
   "source": [
    "##Task 2: Does average beauty score differ by gender? Produce the means and standard deviations for both male and female instructors.\n"
   ]
  },
  {
   "cell_type": "markdown",
   "metadata": {
    "id": "-Y9JvusgIUgD"
   },
   "source": [
    "Fill it:\n",
    "        mean   std   var\n",
    "\n",
    "female  ---   ---  ---\n",
    "\n",
    "male    ---   ---  ---"
   ]
  },
  {
   "cell_type": "markdown",
   "metadata": {
    "id": "rylxMSk2pAcv"
   },
   "source": [
    "##Task 3: What is the Median evaluation score for tenured Professors?"
   ]
  },
  {
   "cell_type": "markdown",
   "metadata": {
    "id": "La_gSKWXpYQq"
   },
   "source": [
    "##Task 4: Does average age differ by tenure? Produce the means and standard deviations for both tenured and untenured professors."
   ]
  },
  {
   "cell_type": "markdown",
   "metadata": {
    "id": "xqmQQD9xphwF"
   },
   "source": [
    "##Task 5: Analyze the generated plots and answer the following questions:\n",
    "1. What trends do you observe between \"age\" and \"eval\" across different \"tenure\" groups?\n",
    "2. Are there any noticeable differences in evaluation scores based on \"gender\"?\n",
    "3. How does tenure influence the relationship between \"age\" and \"eval\"?"
   ]
  },
  {
   "cell_type": "markdown",
   "metadata": {
    "id": "9jqo25XI_0fJ"
   },
   "source": [
    "##Task 6: Using the teachers' rating dataset, what is the probability of receiving an evaluation score of greater than 4.5."
   ]
  },
  {
   "cell_type": "markdown",
   "metadata": {
    "id": "GyBunidA_-NM"
   },
   "source": [
    "hints:\n",
    "1. Calculate the Mean and Standard Deviation.\n",
    "2. Calculate the Z-Score.\n",
    "3. Find the Cumulative Probability\n",
    "4. Compute the Complementary Probability"
   ]
  },
  {
   "cell_type": "markdown",
   "metadata": {
    "id": "nrbRPAA_AYZx"
   },
   "source": [
    "##Task 7: Using the teachers' rating dataset, what is the probability of receiving an evaluation score between 2 and 3?"
   ]
  },
  {
   "cell_type": "markdown",
   "metadata": {
    "id": "lJusrQLtA0D_"
   },
   "source": [
    "##Task 8: Using gender-differentiated scatter plots, plot the relationship between age and teaching evaluation scores."
   ]
  },
  {
   "cell_type": "markdown",
   "metadata": {
    "id": "FfoMTaT8BwU8"
   },
   "source": [
    "##Task 9: Create a box plot to Compare age along with tenure on the basis of gender."
   ]
  },
  {
   "cell_type": "markdown",
   "metadata": {
    "id": "jBCeyCjzCRFV"
   },
   "source": [
    "##Task 10: Calculate the skewness of the evaluation scores using the skew() function and interpret whether the distribution is symmetrical, positively skewed, or negatively skewed. Create a histogram using matplotlib or seaborn to visually confirm the skewness."
   ]
  },
  {
   "cell_type": "code",
   "execution_count": 1,
   "metadata": {},
   "outputs": [],
   "source": [
    "import pandas as pd\n",
    "import numpy as np\n",
    "import matplotlib as plt\n",
    "import seaborn as sns"
   ]
  },
  {
   "cell_type": "code",
   "execution_count": null,
   "metadata": {},
   "outputs": [],
   "source": []
  }
 ],
 "metadata": {
  "colab": {
   "provenance": []
  },
  "kernelspec": {
   "display_name": "Python 3 (ipykernel)",
   "language": "python",
   "name": "python3"
  },
  "language_info": {
   "codemirror_mode": {
    "name": "ipython",
    "version": 3
   },
   "file_extension": ".py",
   "mimetype": "text/x-python",
   "name": "python",
   "nbconvert_exporter": "python",
   "pygments_lexer": "ipython3",
   "version": "3.12.5"
  }
 },
 "nbformat": 4,
 "nbformat_minor": 4
}
