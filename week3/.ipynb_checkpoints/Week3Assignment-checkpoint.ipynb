{
  "nbformat": 4,
  "nbformat_minor": 0,
  "metadata": {
    "colab": {
      "provenance": []
    },
    "kernelspec": {
      "name": "python3",
      "display_name": "Python 3"
    },
    "language_info": {
      "name": "python"
    }
  },
  "cells": [
    {
      "cell_type": "markdown",
      "source": [
        "#week-3 Assignment"
      ],
      "metadata": {
        "id": "_r_62IAHl-dI"
      }
    },
    {
      "cell_type": "markdown",
      "source": [
        "##Read CSV file teachingrating.csv"
      ],
      "metadata": {
        "id": "5xg7y_SzoKcU"
      }
    },
    {
      "cell_type": "markdown",
      "source": [
        "##Display information about the dataset"
      ],
      "metadata": {
        "id": "_QSmZvw5oLvH"
      }
    },
    {
      "cell_type": "markdown",
      "source": [
        "##Task 1: Generate a histogram for the \"beauty\" variable and provide a brief analysis of the data distribution."
      ],
      "metadata": {
        "id": "-ZkSeBxnoSSK"
      }
    },
    {
      "cell_type": "markdown",
      "source": [
        "##Task 2: Does average beauty score differ by gender? Produce the means and standard deviations for both male and female instructors.\n"
      ],
      "metadata": {
        "id": "65F-LnIxoZ1p"
      }
    },
    {
      "cell_type": "markdown",
      "source": [
        "Fill it:\n",
        "        mean   std   var\n",
        "\n",
        "female  ---   ---  ---\n",
        "\n",
        "male    ---   ---  ---"
      ],
      "metadata": {
        "id": "-Y9JvusgIUgD"
      }
    },
    {
      "cell_type": "markdown",
      "source": [
        "##Task 3: What is the Median evaluation score for tenured Professors?"
      ],
      "metadata": {
        "id": "rylxMSk2pAcv"
      }
    },
    {
      "cell_type": "markdown",
      "source": [
        "##Task 4: Does average age differ by tenure? Produce the means and standard deviations for both tenured and untenured professors."
      ],
      "metadata": {
        "id": "La_gSKWXpYQq"
      }
    },
    {
      "cell_type": "markdown",
      "source": [
        "##Task 5: Analyze the generated plots and answer the following questions:\n",
        "1. What trends do you observe between \"age\" and \"eval\" across different \"tenure\" groups?\n",
        "2. Are there any noticeable differences in evaluation scores based on \"gender\"?\n",
        "3. How does tenure influence the relationship between \"age\" and \"eval\"?"
      ],
      "metadata": {
        "id": "xqmQQD9xphwF"
      }
    },
    {
      "cell_type": "markdown",
      "source": [
        "##Task 6: Using the teachers' rating dataset, what is the probability of receiving an evaluation score of greater than 4.5."
      ],
      "metadata": {
        "id": "9jqo25XI_0fJ"
      }
    },
    {
      "cell_type": "markdown",
      "source": [
        "hints:\n",
        "1. Calculate the Mean and Standard Deviation.\n",
        "2. Calculate the Z-Score.\n",
        "3. Find the Cumulative Probability\n",
        "4. Compute the Complementary Probability"
      ],
      "metadata": {
        "id": "GyBunidA_-NM"
      }
    },
    {
      "cell_type": "markdown",
      "source": [
        "##Task 7: Using the teachers' rating dataset, what is the probability of receiving an evaluation score between 2 and 3?"
      ],
      "metadata": {
        "id": "nrbRPAA_AYZx"
      }
    },
    {
      "cell_type": "markdown",
      "source": [
        "##Task 8: Using gender-differentiated scatter plots, plot the relationship between age and teaching evaluation scores."
      ],
      "metadata": {
        "id": "lJusrQLtA0D_"
      }
    },
    {
      "cell_type": "markdown",
      "source": [
        "##Task 9: Create a box plot to Compare age along with tenure on the basis of gender."
      ],
      "metadata": {
        "id": "FfoMTaT8BwU8"
      }
    },
    {
      "cell_type": "markdown",
      "source": [
        "##Task 10: Calculate the skewness of the evaluation scores using the skew() function and interpret whether the distribution is symmetrical, positively skewed, or negatively skewed. Create a histogram using matplotlib or seaborn to visually confirm the skewness."
      ],
      "metadata": {
        "id": "jBCeyCjzCRFV"
      }
    },
    {
      "cell_type": "code",
      "source": [],
      "metadata": {
        "id": "1TEomAcJGt8a"
      },
      "execution_count": null,
      "outputs": []
    }
  ]
}