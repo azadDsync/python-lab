{
 "cells": [
  {
   "cell_type": "markdown",
   "id": "8b64dd9d-2d17-4520-9e6b-82a45a8d90fa",
   "metadata": {},
   "source": [
    "### By: Domendra (523110015)"
   ]
  },
  {
   "cell_type": "markdown",
   "id": "992e08b1-ebad-47ca-8f65-ed0ef149df20",
   "metadata": {},
   "source": [
    "# Tasks"
   ]
  },
  {
   "cell_type": "markdown",
   "id": "051f96c0-82db-4606-b4fb-742c4ced3149",
   "metadata": {},
   "source": [
    " **Que1**"
   ]
  },
  {
   "cell_type": "code",
   "execution_count": 1,
   "id": "4073e422-60fd-4ac2-b7c6-7a1b0b5b8b85",
   "metadata": {},
   "outputs": [
    {
     "name": "stdout",
     "output_type": "stream",
     "text": [
      "<class 'str'>\n",
      "<class 'int'>\n",
      "<class 'float'>\n",
      "<class 'bool'>\n"
     ]
    }
   ],
   "source": [
    "name = \"Domendra\"\n",
    "age = 21\n",
    "height = 175.5\n",
    "is_student = True\n",
    "\n",
    "\n",
    "print(type(name))\n",
    "print(type(age))\n",
    "print(type(height))\n",
    "print(type(is_student))\n"
   ]
  },
  {
   "cell_type": "markdown",
   "id": "3081d97d-c740-48a2-b2a6-5a37fd7a1ba4",
   "metadata": {},
   "source": [
    "**Que2**"
   ]
  },
  {
   "cell_type": "code",
   "execution_count": 6,
   "id": "d924e81e-aa48-4250-ad7e-29fcf63639f0",
   "metadata": {},
   "outputs": [
    {
     "name": "stdin",
     "output_type": "stream",
     "text": [
      "Enter a number:  8\n"
     ]
    },
    {
     "name": "stdout",
     "output_type": "stream",
     "text": [
      "Positive\n"
     ]
    }
   ],
   "source": [
    "\n",
    "num = int(input(\"Enter a number: \"))\n",
    "\n",
    "\n",
    "if num > 0:\n",
    "    print(\"Positive\")\n",
    "elif num < 0:\n",
    "    print(\"Negative\")\n",
    "else:\n",
    "    print(\"Zero\")\n"
   ]
  },
  {
   "cell_type": "markdown",
   "id": "1edb50c3-86a9-4281-a7bd-f2a08c27767c",
   "metadata": {},
   "source": [
    "**Que3**"
   ]
  },
  {
   "cell_type": "code",
   "execution_count": 7,
   "id": "7a2f25fb-249e-4ef0-88eb-823eb72f4c8d",
   "metadata": {},
   "outputs": [
    {
     "name": "stdout",
     "output_type": "stream",
     "text": [
      "2\n",
      "4\n",
      "6\n",
      "8\n",
      "10\n",
      "Sum of even numbers: 30\n"
     ]
    }
   ],
   "source": [
    "even_sum = 0\n",
    "for num in range(1, 11):\n",
    "    if num % 2 == 0:\n",
    "        print(num)\n",
    "        even_sum += num\n",
    "\n",
    "\n",
    "print(\"Sum of even numbers:\", even_sum)\n"
   ]
  },
  {
   "cell_type": "markdown",
   "id": "1e7dac4e-e217-499f-b2e4-8f578bd6f19f",
   "metadata": {},
   "source": [
    "**Que4**"
   ]
  },
  {
   "cell_type": "code",
   "execution_count": 9,
   "id": "c45304ad-8a09-460f-a2ed-4aabd2839605",
   "metadata": {},
   "outputs": [
    {
     "name": "stdout",
     "output_type": "stream",
     "text": [
      "16\n"
     ]
    }
   ],
   "source": [
    "\n",
    "def square(number):\n",
    "    return number ** 2\n",
    "\n",
    "\n",
    "print(square(4))\n"
   ]
  },
  {
   "cell_type": "markdown",
   "id": "ef5afa47-6cbf-461d-9127-38d3d6cd4caf",
   "metadata": {},
   "source": [
    "# Assignment"
   ]
  },
  {
   "cell_type": "code",
   "execution_count": 10,
   "id": "3df5aec6-c51b-4766-9e1c-775cc79c3e45",
   "metadata": {},
   "outputs": [
    {
     "name": "stdin",
     "output_type": "stream",
     "text": [
      "Enter a number:  2\n",
      "Enter a word:  abcd\n",
      "Enter a decimal number:  2.2\n"
     ]
    },
    {
     "name": "stdout",
     "output_type": "stream",
     "text": [
      "Type of num: <class 'int'>\n",
      "Type of word: <class 'str'>\n",
      "Type of decimal_num: <class 'float'>\n",
      "Addition of number and decimal: 4.2\n",
      "Concatenation of word and number: abcd2\n"
     ]
    }
   ],
   "source": [
    "#as1: \n",
    "num = int(input(\"Enter a number: \"))\n",
    "word = input(\"Enter a word: \")\n",
    "decimal_num = float(input(\"Enter a decimal number: \"))\n",
    "\n",
    "\n",
    "print(\"Type of num:\", type(num))\n",
    "print(\"Type of word:\", type(word))\n",
    "print(\"Type of decimal_num:\", type(decimal_num))\n",
    "\n",
    "\n",
    "print(\"Addition of number and decimal:\", num + decimal_num)\n",
    "print(\"Concatenation of word and number:\", word + str(num))\n"
   ]
  },
  {
   "cell_type": "code",
   "execution_count": 12,
   "id": "1e9ee426-403d-4bb9-b73b-921e1b8478b7",
   "metadata": {},
   "outputs": [
    {
     "name": "stdin",
     "output_type": "stream",
     "text": [
      "Enter a variable name:  var\n"
     ]
    },
    {
     "name": "stdout",
     "output_type": "stream",
     "text": [
      "Valid variable name.\n"
     ]
    }
   ],
   "source": [
    "#as2\n",
    "\n",
    "variable_name = input(\"Enter a variable name: \")\n",
    "\n",
    "\n",
    "if variable_name.isidentifier():\n",
    "    print(\"Valid variable name.\")\n",
    "else:\n",
    "    print(\"Invalid variable name. Variable names must start with a letter or underscore and contain only letters, numbers, and underscores.\")\n"
   ]
  },
  {
   "cell_type": "code",
   "execution_count": 14,
   "id": "72a6d3e6-b171-40e8-a7d1-d4d89a4fbc0c",
   "metadata": {},
   "outputs": [
    {
     "name": "stdin",
     "output_type": "stream",
     "text": [
      "Choose conversion: (1) Celsius to Fahrenheit (2) Fahrenheit to Celsius:  1\n",
      "Enter the temperature:  32\n"
     ]
    },
    {
     "name": "stdout",
     "output_type": "stream",
     "text": [
      "32.0°C is equal to 89.6°F\n"
     ]
    }
   ],
   "source": [
    "#as3\n",
    "\n",
    "choice = input(\"Choose conversion: (1) Celsius to Fahrenheit (2) Fahrenheit to Celsius: \")\n",
    "\n",
    "\n",
    "temp = float(input(\"Enter the temperature: \"))\n",
    "\n",
    "\n",
    "if choice == \"1\":\n",
    "    converted_temp = (temp * 9/5) + 32\n",
    "    print(f\"{temp}°C is equal to {converted_temp}°F\")\n",
    "elif choice == \"2\":\n",
    "    converted_temp = (temp - 32) * 5/9\n",
    "    print(f\"{temp}°F is equal to {converted_temp}°C\")\n",
    "else:\n",
    "    print(\"Invalid choice.\")\n"
   ]
  },
  {
   "cell_type": "code",
   "execution_count": 15,
   "id": "64afa578-4bf4-40da-8891-daa529d2204d",
   "metadata": {},
   "outputs": [
    {
     "name": "stdin",
     "output_type": "stream",
     "text": [
      "Enter percentage score:  44\n"
     ]
    },
    {
     "name": "stdout",
     "output_type": "stream",
     "text": [
      "The grade is: F\n"
     ]
    }
   ],
   "source": [
    "#as4\n",
    "\n",
    "score = float(input(\"Enter percentage score: \"))\n",
    "\n",
    "\n",
    "if score >= 90:\n",
    "    grade = \"A\"\n",
    "elif score >= 80:\n",
    "    grade = \"B\"\n",
    "elif score >= 70:\n",
    "    grade = \"C\"\n",
    "elif score >= 60:\n",
    "    grade = \"D\"\n",
    "else:\n",
    "    grade = \"F\"\n",
    "\n",
    "print(f\"The grade is: {grade}\")\n"
   ]
  },
  {
   "cell_type": "code",
   "execution_count": 16,
   "id": "c351ef56-590b-447d-80ee-07026307001e",
   "metadata": {},
   "outputs": [
    {
     "name": "stdin",
     "output_type": "stream",
     "text": [
      "Enter a year:  2022\n"
     ]
    },
    {
     "name": "stdout",
     "output_type": "stream",
     "text": [
      "2022 is not a leap year.\n"
     ]
    }
   ],
   "source": [
    "#as5\n",
    "\n",
    "year = int(input(\"Enter a year: \"))\n",
    "\n",
    "\n",
    "if (year % 4 == 0 and year % 100 != 0) or (year % 400 == 0):\n",
    "    print(f\"{year} is a leap year.\")\n",
    "else:\n",
    "    print(f\"{year} is not a leap year.\")\n"
   ]
  },
  {
   "cell_type": "code",
   "execution_count": 17,
   "id": "2e4172fe-f932-4e4f-8b2f-10025a7303f0",
   "metadata": {},
   "outputs": [
    {
     "name": "stdout",
     "output_type": "stream",
     "text": [
      "Twinkle, twinkle, little star,\n",
      "How I wonder what you are!\n",
      "Up above the world so high,\n",
      "Like a diamond in the sky.\n"
     ]
    }
   ],
   "source": [
    "#as6\n",
    "# Simple program to generate lyrics\n",
    "def generate_lyrics():\n",
    "    line1 = \"Twinkle, twinkle, little star,\"\n",
    "    line2 = \"How I wonder what you are!\"\n",
    "    line3 = \"Up above the world so high,\"\n",
    "    line4 = \"Like a diamond in the sky.\"\n",
    "\n",
    "    print(f\"{line1}\\n{line2}\\n{line3}\\n{line4}\")\n",
    "\n",
    "generate_lyrics()\n"
   ]
  },
  {
   "cell_type": "code",
   "execution_count": null,
   "id": "fc1afedb-0a5f-43ff-9732-a3947c9aa7a2",
   "metadata": {},
   "outputs": [],
   "source": []
  }
 ],
 "metadata": {
  "kernelspec": {
   "display_name": "Python 3 (ipykernel)",
   "language": "python",
   "name": "python3"
  },
  "language_info": {
   "codemirror_mode": {
    "name": "ipython",
    "version": 3
   },
   "file_extension": ".py",
   "mimetype": "text/x-python",
   "name": "python",
   "nbconvert_exporter": "python",
   "pygments_lexer": "ipython3",
   "version": "3.12.5"
  }
 },
 "nbformat": 4,
 "nbformat_minor": 5
}
